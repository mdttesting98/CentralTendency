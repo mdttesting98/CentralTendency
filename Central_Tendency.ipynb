{
  "nbformat": 4,
  "nbformat_minor": 0,
  "metadata": {
    "kernelspec": {
      "display_name": "Python 3",
      "language": "python",
      "name": "python3"
    },
    "language_info": {
      "codemirror_mode": {
        "name": "ipython",
        "version": 3
      },
      "file_extension": ".py",
      "mimetype": "text/x-python",
      "name": "python",
      "nbconvert_exporter": "python",
      "pygments_lexer": "ipython3",
      "version": "3.8.5"
    },
    "colab": {
      "name": "Central_Tendency.ipynb",
      "provenance": [],
      "collapsed_sections": []
    }
  },
  "cells": [
    {
      "cell_type": "markdown",
      "metadata": {
        "id": "meqU6hncF3Cy"
      },
      "source": [
        "## Central Tendency in Python"
      ]
    },
    {
      "cell_type": "markdown",
      "metadata": {
        "id": "Nca0zHN9F3C5"
      },
      "source": [
        "### Setup"
      ]
    },
    {
      "cell_type": "code",
      "metadata": {
        "id": "SdTsU6KxF3C6"
      },
      "source": [
        "import pandas as pd\n",
        "import requests\n",
        "import numpy as np\n",
        "\n",
        "download_url = \"https://raw.githubusercontent.com/fivethirtyeight/data/master/nba-elo/nbaallelo.csv\"\n",
        "target_csv_path = \"nba_all_elo.csv\"\n",
        "\n",
        "response = requests.get(download_url)\n",
        "response.raise_for_status()    # Check that the request was successful\n",
        "with open(target_csv_path, \"wb\") as f:\n",
        "    f.write(response.content)\n",
        "\n",
        "nba = pd.read_csv(\"nba_all_elo.csv\")"
      ],
      "execution_count": 29,
      "outputs": []
    },
    {
      "cell_type": "code",
      "metadata": {
        "id": "3LSN7YhmF3C-",
        "colab": {
          "base_uri": "https://localhost:8080/"
        },
        "outputId": "7600e3a9-eac5-4b7b-8ca2-594e8ad553df"
      },
      "source": [
        "type(nba)"
      ],
      "execution_count": 2,
      "outputs": [
        {
          "output_type": "execute_result",
          "data": {
            "text/plain": [
              "pandas.core.frame.DataFrame"
            ]
          },
          "metadata": {},
          "execution_count": 2
        }
      ]
    },
    {
      "cell_type": "code",
      "metadata": {
        "id": "ujjDPhfOF3DB",
        "colab": {
          "base_uri": "https://localhost:8080/",
          "height": 223
        },
        "outputId": "37571685-e127-42d6-9409-04681c019295"
      },
      "source": [
        "#Let's Look at our Data \n",
        "nba.head()"
      ],
      "execution_count": 3,
      "outputs": [
        {
          "output_type": "execute_result",
          "data": {
            "text/html": [
              "<div>\n",
              "<style scoped>\n",
              "    .dataframe tbody tr th:only-of-type {\n",
              "        vertical-align: middle;\n",
              "    }\n",
              "\n",
              "    .dataframe tbody tr th {\n",
              "        vertical-align: top;\n",
              "    }\n",
              "\n",
              "    .dataframe thead th {\n",
              "        text-align: right;\n",
              "    }\n",
              "</style>\n",
              "<table border=\"1\" class=\"dataframe\">\n",
              "  <thead>\n",
              "    <tr style=\"text-align: right;\">\n",
              "      <th></th>\n",
              "      <th>gameorder</th>\n",
              "      <th>game_id</th>\n",
              "      <th>lg_id</th>\n",
              "      <th>_iscopy</th>\n",
              "      <th>year_id</th>\n",
              "      <th>date_game</th>\n",
              "      <th>seasongame</th>\n",
              "      <th>is_playoffs</th>\n",
              "      <th>team_id</th>\n",
              "      <th>fran_id</th>\n",
              "      <th>pts</th>\n",
              "      <th>elo_i</th>\n",
              "      <th>elo_n</th>\n",
              "      <th>win_equiv</th>\n",
              "      <th>opp_id</th>\n",
              "      <th>opp_fran</th>\n",
              "      <th>opp_pts</th>\n",
              "      <th>opp_elo_i</th>\n",
              "      <th>opp_elo_n</th>\n",
              "      <th>game_location</th>\n",
              "      <th>game_result</th>\n",
              "      <th>forecast</th>\n",
              "      <th>notes</th>\n",
              "    </tr>\n",
              "  </thead>\n",
              "  <tbody>\n",
              "    <tr>\n",
              "      <th>0</th>\n",
              "      <td>1</td>\n",
              "      <td>194611010TRH</td>\n",
              "      <td>NBA</td>\n",
              "      <td>0</td>\n",
              "      <td>1947</td>\n",
              "      <td>11/1/1946</td>\n",
              "      <td>1</td>\n",
              "      <td>0</td>\n",
              "      <td>TRH</td>\n",
              "      <td>Huskies</td>\n",
              "      <td>66</td>\n",
              "      <td>1300.0000</td>\n",
              "      <td>1293.2767</td>\n",
              "      <td>40.294830</td>\n",
              "      <td>NYK</td>\n",
              "      <td>Knicks</td>\n",
              "      <td>68</td>\n",
              "      <td>1300.0000</td>\n",
              "      <td>1306.7233</td>\n",
              "      <td>H</td>\n",
              "      <td>L</td>\n",
              "      <td>0.640065</td>\n",
              "      <td>NaN</td>\n",
              "    </tr>\n",
              "    <tr>\n",
              "      <th>1</th>\n",
              "      <td>1</td>\n",
              "      <td>194611010TRH</td>\n",
              "      <td>NBA</td>\n",
              "      <td>1</td>\n",
              "      <td>1947</td>\n",
              "      <td>11/1/1946</td>\n",
              "      <td>1</td>\n",
              "      <td>0</td>\n",
              "      <td>NYK</td>\n",
              "      <td>Knicks</td>\n",
              "      <td>68</td>\n",
              "      <td>1300.0000</td>\n",
              "      <td>1306.7233</td>\n",
              "      <td>41.705170</td>\n",
              "      <td>TRH</td>\n",
              "      <td>Huskies</td>\n",
              "      <td>66</td>\n",
              "      <td>1300.0000</td>\n",
              "      <td>1293.2767</td>\n",
              "      <td>A</td>\n",
              "      <td>W</td>\n",
              "      <td>0.359935</td>\n",
              "      <td>NaN</td>\n",
              "    </tr>\n",
              "    <tr>\n",
              "      <th>2</th>\n",
              "      <td>2</td>\n",
              "      <td>194611020CHS</td>\n",
              "      <td>NBA</td>\n",
              "      <td>0</td>\n",
              "      <td>1947</td>\n",
              "      <td>11/2/1946</td>\n",
              "      <td>1</td>\n",
              "      <td>0</td>\n",
              "      <td>CHS</td>\n",
              "      <td>Stags</td>\n",
              "      <td>63</td>\n",
              "      <td>1300.0000</td>\n",
              "      <td>1309.6521</td>\n",
              "      <td>42.012257</td>\n",
              "      <td>NYK</td>\n",
              "      <td>Knicks</td>\n",
              "      <td>47</td>\n",
              "      <td>1306.7233</td>\n",
              "      <td>1297.0712</td>\n",
              "      <td>H</td>\n",
              "      <td>W</td>\n",
              "      <td>0.631101</td>\n",
              "      <td>NaN</td>\n",
              "    </tr>\n",
              "    <tr>\n",
              "      <th>3</th>\n",
              "      <td>2</td>\n",
              "      <td>194611020CHS</td>\n",
              "      <td>NBA</td>\n",
              "      <td>1</td>\n",
              "      <td>1947</td>\n",
              "      <td>11/2/1946</td>\n",
              "      <td>2</td>\n",
              "      <td>0</td>\n",
              "      <td>NYK</td>\n",
              "      <td>Knicks</td>\n",
              "      <td>47</td>\n",
              "      <td>1306.7233</td>\n",
              "      <td>1297.0712</td>\n",
              "      <td>40.692783</td>\n",
              "      <td>CHS</td>\n",
              "      <td>Stags</td>\n",
              "      <td>63</td>\n",
              "      <td>1300.0000</td>\n",
              "      <td>1309.6521</td>\n",
              "      <td>A</td>\n",
              "      <td>L</td>\n",
              "      <td>0.368899</td>\n",
              "      <td>NaN</td>\n",
              "    </tr>\n",
              "    <tr>\n",
              "      <th>4</th>\n",
              "      <td>3</td>\n",
              "      <td>194611020DTF</td>\n",
              "      <td>NBA</td>\n",
              "      <td>0</td>\n",
              "      <td>1947</td>\n",
              "      <td>11/2/1946</td>\n",
              "      <td>1</td>\n",
              "      <td>0</td>\n",
              "      <td>DTF</td>\n",
              "      <td>Falcons</td>\n",
              "      <td>33</td>\n",
              "      <td>1300.0000</td>\n",
              "      <td>1279.6189</td>\n",
              "      <td>38.864048</td>\n",
              "      <td>WSC</td>\n",
              "      <td>Capitols</td>\n",
              "      <td>50</td>\n",
              "      <td>1300.0000</td>\n",
              "      <td>1320.3811</td>\n",
              "      <td>H</td>\n",
              "      <td>L</td>\n",
              "      <td>0.640065</td>\n",
              "      <td>NaN</td>\n",
              "    </tr>\n",
              "  </tbody>\n",
              "</table>\n",
              "</div>"
            ],
            "text/plain": [
              "   gameorder       game_id lg_id  ...  game_result  forecast notes\n",
              "0          1  194611010TRH   NBA  ...            L  0.640065   NaN\n",
              "1          1  194611010TRH   NBA  ...            W  0.359935   NaN\n",
              "2          2  194611020CHS   NBA  ...            W  0.631101   NaN\n",
              "3          2  194611020CHS   NBA  ...            L  0.368899   NaN\n",
              "4          3  194611020DTF   NBA  ...            L  0.640065   NaN\n",
              "\n",
              "[5 rows x 23 columns]"
            ]
          },
          "metadata": {},
          "execution_count": 3
        }
      ]
    },
    {
      "cell_type": "code",
      "metadata": {
        "id": "2xIv8fnDF3DC",
        "colab": {
          "base_uri": "https://localhost:8080/",
          "height": 223
        },
        "outputId": "87bf8361-df52-4f55-93cd-3628fa7ae65f"
      },
      "source": [
        "nba.tail()"
      ],
      "execution_count": 4,
      "outputs": [
        {
          "output_type": "execute_result",
          "data": {
            "text/html": [
              "<div>\n",
              "<style scoped>\n",
              "    .dataframe tbody tr th:only-of-type {\n",
              "        vertical-align: middle;\n",
              "    }\n",
              "\n",
              "    .dataframe tbody tr th {\n",
              "        vertical-align: top;\n",
              "    }\n",
              "\n",
              "    .dataframe thead th {\n",
              "        text-align: right;\n",
              "    }\n",
              "</style>\n",
              "<table border=\"1\" class=\"dataframe\">\n",
              "  <thead>\n",
              "    <tr style=\"text-align: right;\">\n",
              "      <th></th>\n",
              "      <th>gameorder</th>\n",
              "      <th>game_id</th>\n",
              "      <th>lg_id</th>\n",
              "      <th>_iscopy</th>\n",
              "      <th>year_id</th>\n",
              "      <th>date_game</th>\n",
              "      <th>seasongame</th>\n",
              "      <th>is_playoffs</th>\n",
              "      <th>team_id</th>\n",
              "      <th>fran_id</th>\n",
              "      <th>pts</th>\n",
              "      <th>elo_i</th>\n",
              "      <th>elo_n</th>\n",
              "      <th>win_equiv</th>\n",
              "      <th>opp_id</th>\n",
              "      <th>opp_fran</th>\n",
              "      <th>opp_pts</th>\n",
              "      <th>opp_elo_i</th>\n",
              "      <th>opp_elo_n</th>\n",
              "      <th>game_location</th>\n",
              "      <th>game_result</th>\n",
              "      <th>forecast</th>\n",
              "      <th>notes</th>\n",
              "    </tr>\n",
              "  </thead>\n",
              "  <tbody>\n",
              "    <tr>\n",
              "      <th>126309</th>\n",
              "      <td>63155</td>\n",
              "      <td>201506110CLE</td>\n",
              "      <td>NBA</td>\n",
              "      <td>0</td>\n",
              "      <td>2015</td>\n",
              "      <td>6/11/2015</td>\n",
              "      <td>100</td>\n",
              "      <td>1</td>\n",
              "      <td>CLE</td>\n",
              "      <td>Cavaliers</td>\n",
              "      <td>82</td>\n",
              "      <td>1723.4149</td>\n",
              "      <td>1704.3949</td>\n",
              "      <td>60.309792</td>\n",
              "      <td>GSW</td>\n",
              "      <td>Warriors</td>\n",
              "      <td>103</td>\n",
              "      <td>1790.9591</td>\n",
              "      <td>1809.9791</td>\n",
              "      <td>H</td>\n",
              "      <td>L</td>\n",
              "      <td>0.546572</td>\n",
              "      <td>NaN</td>\n",
              "    </tr>\n",
              "    <tr>\n",
              "      <th>126310</th>\n",
              "      <td>63156</td>\n",
              "      <td>201506140GSW</td>\n",
              "      <td>NBA</td>\n",
              "      <td>0</td>\n",
              "      <td>2015</td>\n",
              "      <td>6/14/2015</td>\n",
              "      <td>102</td>\n",
              "      <td>1</td>\n",
              "      <td>GSW</td>\n",
              "      <td>Warriors</td>\n",
              "      <td>104</td>\n",
              "      <td>1809.9791</td>\n",
              "      <td>1813.6349</td>\n",
              "      <td>68.013329</td>\n",
              "      <td>CLE</td>\n",
              "      <td>Cavaliers</td>\n",
              "      <td>91</td>\n",
              "      <td>1704.3949</td>\n",
              "      <td>1700.7391</td>\n",
              "      <td>H</td>\n",
              "      <td>W</td>\n",
              "      <td>0.765565</td>\n",
              "      <td>NaN</td>\n",
              "    </tr>\n",
              "    <tr>\n",
              "      <th>126311</th>\n",
              "      <td>63156</td>\n",
              "      <td>201506140GSW</td>\n",
              "      <td>NBA</td>\n",
              "      <td>1</td>\n",
              "      <td>2015</td>\n",
              "      <td>6/14/2015</td>\n",
              "      <td>101</td>\n",
              "      <td>1</td>\n",
              "      <td>CLE</td>\n",
              "      <td>Cavaliers</td>\n",
              "      <td>91</td>\n",
              "      <td>1704.3949</td>\n",
              "      <td>1700.7391</td>\n",
              "      <td>60.010067</td>\n",
              "      <td>GSW</td>\n",
              "      <td>Warriors</td>\n",
              "      <td>104</td>\n",
              "      <td>1809.9791</td>\n",
              "      <td>1813.6349</td>\n",
              "      <td>A</td>\n",
              "      <td>L</td>\n",
              "      <td>0.234435</td>\n",
              "      <td>NaN</td>\n",
              "    </tr>\n",
              "    <tr>\n",
              "      <th>126312</th>\n",
              "      <td>63157</td>\n",
              "      <td>201506170CLE</td>\n",
              "      <td>NBA</td>\n",
              "      <td>0</td>\n",
              "      <td>2015</td>\n",
              "      <td>6/16/2015</td>\n",
              "      <td>102</td>\n",
              "      <td>1</td>\n",
              "      <td>CLE</td>\n",
              "      <td>Cavaliers</td>\n",
              "      <td>97</td>\n",
              "      <td>1700.7391</td>\n",
              "      <td>1692.0859</td>\n",
              "      <td>59.290245</td>\n",
              "      <td>GSW</td>\n",
              "      <td>Warriors</td>\n",
              "      <td>105</td>\n",
              "      <td>1813.6349</td>\n",
              "      <td>1822.2881</td>\n",
              "      <td>H</td>\n",
              "      <td>L</td>\n",
              "      <td>0.481450</td>\n",
              "      <td>NaN</td>\n",
              "    </tr>\n",
              "    <tr>\n",
              "      <th>126313</th>\n",
              "      <td>63157</td>\n",
              "      <td>201506170CLE</td>\n",
              "      <td>NBA</td>\n",
              "      <td>1</td>\n",
              "      <td>2015</td>\n",
              "      <td>6/16/2015</td>\n",
              "      <td>103</td>\n",
              "      <td>1</td>\n",
              "      <td>GSW</td>\n",
              "      <td>Warriors</td>\n",
              "      <td>105</td>\n",
              "      <td>1813.6349</td>\n",
              "      <td>1822.2881</td>\n",
              "      <td>68.519516</td>\n",
              "      <td>CLE</td>\n",
              "      <td>Cavaliers</td>\n",
              "      <td>97</td>\n",
              "      <td>1700.7391</td>\n",
              "      <td>1692.0859</td>\n",
              "      <td>A</td>\n",
              "      <td>W</td>\n",
              "      <td>0.518550</td>\n",
              "      <td>NaN</td>\n",
              "    </tr>\n",
              "  </tbody>\n",
              "</table>\n",
              "</div>"
            ],
            "text/plain": [
              "        gameorder       game_id lg_id  ...  game_result  forecast notes\n",
              "126309      63155  201506110CLE   NBA  ...            L  0.546572   NaN\n",
              "126310      63156  201506140GSW   NBA  ...            W  0.765565   NaN\n",
              "126311      63156  201506140GSW   NBA  ...            L  0.234435   NaN\n",
              "126312      63157  201506170CLE   NBA  ...            L  0.481450   NaN\n",
              "126313      63157  201506170CLE   NBA  ...            W  0.518550   NaN\n",
              "\n",
              "[5 rows x 23 columns]"
            ]
          },
          "metadata": {},
          "execution_count": 4
        }
      ]
    },
    {
      "cell_type": "code",
      "metadata": {
        "id": "M7QNsvYtF3DE",
        "colab": {
          "base_uri": "https://localhost:8080/"
        },
        "outputId": "ae3bdc31-1fcf-4e01-da78-8a00905a01d4"
      },
      "source": [
        "len(nba)"
      ],
      "execution_count": 5,
      "outputs": [
        {
          "output_type": "execute_result",
          "data": {
            "text/plain": [
              "126314"
            ]
          },
          "metadata": {},
          "execution_count": 5
        }
      ]
    },
    {
      "cell_type": "code",
      "metadata": {
        "id": "0aWOP37QF3DG",
        "colab": {
          "base_uri": "https://localhost:8080/"
        },
        "outputId": "1079f2e6-b0ef-495a-de64-21ea23eea7d7"
      },
      "source": [
        "nba.shape"
      ],
      "execution_count": 6,
      "outputs": [
        {
          "output_type": "execute_result",
          "data": {
            "text/plain": [
              "(126314, 23)"
            ]
          },
          "metadata": {},
          "execution_count": 6
        }
      ]
    },
    {
      "cell_type": "code",
      "metadata": {
        "id": "nUtwewZ6F3DJ",
        "colab": {
          "base_uri": "https://localhost:8080/"
        },
        "outputId": "81330a8c-24a0-4736-e0bf-addaea89087a"
      },
      "source": [
        "# iterating the columns\n",
        "for col in nba.columns:\n",
        "    print(col)"
      ],
      "execution_count": 7,
      "outputs": [
        {
          "output_type": "stream",
          "name": "stdout",
          "text": [
            "gameorder\n",
            "game_id\n",
            "lg_id\n",
            "_iscopy\n",
            "year_id\n",
            "date_game\n",
            "seasongame\n",
            "is_playoffs\n",
            "team_id\n",
            "fran_id\n",
            "pts\n",
            "elo_i\n",
            "elo_n\n",
            "win_equiv\n",
            "opp_id\n",
            "opp_fran\n",
            "opp_pts\n",
            "opp_elo_i\n",
            "opp_elo_n\n",
            "game_location\n",
            "game_result\n",
            "forecast\n",
            "notes\n"
          ]
        }
      ]
    },
    {
      "cell_type": "markdown",
      "metadata": {
        "id": "X3LX563RF3DN"
      },
      "source": [
        "## Doing Central Tendency"
      ]
    },
    {
      "cell_type": "code",
      "metadata": {
        "id": "qY2GjtQRF3DO",
        "colab": {
          "base_uri": "https://localhost:8080/"
        },
        "outputId": "7a290ed1-4aeb-4bb2-99fd-1b42602aa712"
      },
      "source": [
        "nba.pts.mean()"
      ],
      "execution_count": 10,
      "outputs": [
        {
          "output_type": "execute_result",
          "data": {
            "text/plain": [
              "102.72998242475101"
            ]
          },
          "metadata": {},
          "execution_count": 10
        }
      ]
    },
    {
      "cell_type": "code",
      "metadata": {
        "id": "msP2LjS4F3DO",
        "colab": {
          "base_uri": "https://localhost:8080/"
        },
        "outputId": "51fd4edb-2a07-4eee-87fc-df5fb2564ff5"
      },
      "source": [
        "nba.pts.median()"
      ],
      "execution_count": 8,
      "outputs": [
        {
          "output_type": "execute_result",
          "data": {
            "text/plain": [
              "103.0"
            ]
          },
          "metadata": {},
          "execution_count": 8
        }
      ]
    },
    {
      "cell_type": "code",
      "metadata": {
        "id": "E-n6jgB9F3DQ",
        "colab": {
          "base_uri": "https://localhost:8080/"
        },
        "outputId": "dd0b557c-c4d9-4326-cbc2-2823dee2f85b"
      },
      "source": [
        "nba.pts.mode()"
      ],
      "execution_count": 9,
      "outputs": [
        {
          "output_type": "execute_result",
          "data": {
            "text/plain": [
              "0    102\n",
              "dtype: int64"
            ]
          },
          "metadata": {},
          "execution_count": 9
        }
      ]
    },
    {
      "cell_type": "markdown",
      "metadata": {
        "id": "8zlYltlcF3DR"
      },
      "source": [
        "## Your Turn - Answer the Questions Below"
      ]
    },
    {
      "cell_type": "code",
      "metadata": {
        "id": "oaSuF3LwF3DS",
        "colab": {
          "base_uri": "https://localhost:8080/"
        },
        "outputId": "98315e71-7870-4482-ecdc-6aa2fa87aa32"
      },
      "source": [
        "# What is the average for points scored in wins and losses?\n",
        "\n",
        "winners = nba[nba.game_result == 'W']\n",
        "losers = nba[nba.game_result == 'L']\n",
        "\n",
        "print('The average points for winners: ', np.mean(winners['pts']))\n",
        "print('The average points for losers: ', np.mean(losers['pts']))"
      ],
      "execution_count": 22,
      "outputs": [
        {
          "output_type": "stream",
          "name": "stdout",
          "text": [
            "The average points for winners:  108.11075573570625\n",
            "The average points for losers:  97.34920911379578\n"
          ]
        }
      ]
    },
    {
      "cell_type": "code",
      "metadata": {
        "id": "cCOhVuAtF3DS",
        "colab": {
          "base_uri": "https://localhost:8080/"
        },
        "outputId": "0b1429a7-298d-4209-8680-faf3ddc07fdf"
      },
      "source": [
        "# What is the average points scored for the Spurs? (Hint SAS is the team id)\n",
        "\n",
        "spurs = nba[nba.team_id == 'SAS']\n",
        "\n",
        "print('The average points for the Spurs: ', np.mean(spurs['pts']))"
      ],
      "execution_count": 26,
      "outputs": [
        {
          "output_type": "stream",
          "name": "stdout",
          "text": [
            "The average points for the Spurs:  103.93769559032717\n"
          ]
        }
      ]
    },
    {
      "cell_type": "code",
      "metadata": {
        "id": "yBB8bvkDF3DS",
        "colab": {
          "base_uri": "https://localhost:8080/"
        },
        "outputId": "c6ddd97f-bfdd-4d73-88a2-2c1abec348e1"
      },
      "source": [
        "# What is the median difference between Team Score and Opponent Score?\n",
        "\n",
        "#spurs\n",
        "\n",
        "print('The median difference between the Spurs and their opponents : ', spurs.pts.median()-spurs.opp_pts.median())\n"
      ],
      "execution_count": 36,
      "outputs": [
        {
          "output_type": "stream",
          "name": "stdout",
          "text": [
            "The median difference between the Spurs and their opponents :  3.0\n"
          ]
        }
      ]
    },
    {
      "cell_type": "code",
      "metadata": {
        "id": "fD5Cfm5tF3DT",
        "colab": {
          "base_uri": "https://localhost:8080/"
        },
        "outputId": "4f93b282-8d20-4054-fb56-a0f3221b8a26"
      },
      "source": [
        "# How has the average and median points scored for winning and losing teams changed by decade?\n",
        "# 40's, 50's, 60's, 70's, 80's, 90's, 2000's, 2010's\n",
        "\n",
        "# Data Frames\n",
        "w40 = winners[((winners['year_id'] >= 1940) & (winners['year_id'] <= 1949))]\n",
        "w50 = winners[((winners['year_id'] >= 1950) & (winners['year_id'] <= 1959))]\n",
        "w60 = winners[((winners['year_id'] >= 1960) & (winners['year_id'] <= 1969))]\n",
        "w70 = winners[((winners['year_id'] >= 1970) & (winners['year_id'] <= 1979))]\n",
        "w80 = winners[((winners['year_id'] >= 1980) & (winners['year_id'] <= 1989))]\n",
        "w90 = winners[((winners['year_id'] >= 1990) & (winners['year_id'] <= 1999))]\n",
        "w00 = winners[((winners['year_id'] >= 2000) & (winners['year_id'] <= 2009))]\n",
        "w10 = winners[((winners['year_id'] >= 2010) & (winners['year_id'] <= 2019))]\n",
        "\n",
        "l40 = losers[((losers['year_id'] >= 1940) & (losers['year_id'] <= 1949))]\n",
        "l50 = losers[((losers['year_id'] >= 1950) & (losers['year_id'] <= 1959))]\n",
        "l60 = losers[((losers['year_id'] >= 1960) & (losers['year_id'] <= 1969))]\n",
        "l70 = losers[((losers['year_id'] >= 1970) & (losers['year_id'] <= 1979))]\n",
        "l80 = losers[((losers['year_id'] >= 1980) & (losers['year_id'] <= 1989))]\n",
        "l90 = losers[((losers['year_id'] >= 1990) & (losers['year_id'] <= 1999))]\n",
        "l00 = losers[((losers['year_id'] >= 2000) & (losers['year_id'] <= 2009))]\n",
        "l10 = losers[((losers['year_id'] >= 2010) & (losers['year_id'] <= 2019))]\n",
        "\n",
        "# median\n",
        "print(\"Median for winners in the 40's:\" , w40.pts.median())\n",
        "print(\"Median for winners in the 50's:\" , w50.pts.median())\n",
        "print(\"Median for winners in the 60's:\" , w60.pts.median())\n",
        "print(\"Median for winners in the 70's:\" , w70.pts.median())\n",
        "print(\"Median for winners in the 80's:\" , w80.pts.median())\n",
        "print(\"Median for winners in the 90's:\" , w90.pts.median())\n",
        "print(\"Median for winners in the 2000's:\" , w00.pts.median())\n",
        "print(\"Median for winners in the 2010's:\" , w10.pts.median())\n",
        "\n",
        "print('\\n')\n",
        "\n",
        "print(\"Median for losers in the 40's:\" , l40.pts.median())\n",
        "print(\"Median for losers in the 50's:\" , l50.pts.median())\n",
        "print(\"Median for losers in the 60's:\" , l60.pts.median())\n",
        "print(\"Median for losers in the 70's:\" , l70.pts.median())\n",
        "print(\"Median for losers in the 80's:\" , l80.pts.median())\n",
        "print(\"Median for losers in the 90's:\" , l90.pts.median())\n",
        "print(\"Median for losers in the 2000's:\" , l00.pts.median())\n",
        "print(\"Median for losers in the 2010's:\" , l10.pts.median())\n",
        "\n",
        "print('\\n')\n",
        "\n",
        "# mean\n",
        "print(\"Mean for winners in the 40's:\" , w40.pts.mean())\n",
        "print(\"Mean for winners in the 50's:\" , w50.pts.mean())\n",
        "print(\"Mean for winners in the 60's:\" , w60.pts.mean())\n",
        "print(\"Mean for winners in the 70's:\" , w70.pts.mean())\n",
        "print(\"Mean for winners in the 80's:\" , w80.pts.mean())\n",
        "print(\"Mean for winners in the 90's:\" , w90.pts.mean())\n",
        "print(\"Mean for winners in the 2000's:\" , w00.pts.mean())\n",
        "print(\"Mean for winners in the 2010's:\" , w10.pts.mean())\n",
        "\n",
        "print('\\n')\n",
        "\n",
        "print(\"Mean for losers in the 40's:\" , l40.pts.mean())\n",
        "print(\"Mean for losers in the 50's:\" , l50.pts.mean())\n",
        "print(\"Mean for losers in the 60's:\" , l60.pts.mean())\n",
        "print(\"Mean for losers in the 70's:\" , l70.pts.mean())\n",
        "print(\"Mean for losers in the 80's:\" , l80.pts.mean())\n",
        "print(\"Mean for losers in the 90's:\" , l90.pts.mean())\n",
        "print(\"Mean for losers in the 2000's:\" , l00.pts.mean())\n",
        "print(\"Mean for losers in the 2010's:\" , l10.pts.mean())"
      ],
      "execution_count": 45,
      "outputs": [
        {
          "output_type": "stream",
          "name": "stdout",
          "text": [
            "Median for winners in the 40's: 79.0\n",
            "Median for winners in the 50's: 95.0\n",
            "Median for winners in the 60's: 119.0\n",
            "Median for winners in the 70's: 114.0\n",
            "Median for winners in the 80's: 114.0\n",
            "Median for winners in the 90's: 106.0\n",
            "Median for winners in the 2000's: 102.0\n",
            "Median for winners in the 2010's: 104.0\n",
            "\n",
            "\n",
            "Median for losers in the 40's: 69.0\n",
            "Median for losers in the 50's: 84.0\n",
            "Median for losers in the 60's: 109.0\n",
            "Median for losers in the 70's: 104.0\n",
            "Median for losers in the 80's: 103.0\n",
            "Median for losers in the 90's: 95.0\n",
            "Median for losers in the 2000's: 91.0\n",
            "Median for losers in the 2010's: 93.0\n",
            "\n",
            "\n",
            "Mean for winners in the 40's: 79.03068783068782\n",
            "Mean for winners in the 50's: 95.40723226703756\n",
            "Mean for winners in the 60's: 119.69831965611567\n",
            "Mean for winners in the 70's: 114.43351467047178\n",
            "Mean for winners in the 80's: 114.47016848364717\n",
            "Mean for winners in the 90's: 106.59442060085837\n",
            "Mean for winners in the 2000's: 102.14606741573034\n",
            "Mean for winners in the 2010's: 104.63224708807748\n",
            "\n",
            "\n",
            "Mean for losers in the 40's: 68.5968253968254\n",
            "Mean for losers in the 50's: 85.16411682892907\n",
            "Mean for losers in the 60's: 108.79679562329035\n",
            "Mean for losers in the 70's: 103.84714171051458\n",
            "Mean for losers in the 80's: 103.87155599603568\n",
            "Mean for losers in the 90's: 95.48145922746781\n",
            "Mean for losers in the 2000's: 91.42022471910113\n",
            "Mean for losers in the 2010's: 93.68328752781049\n"
          ]
        }
      ]
    }
  ]
}